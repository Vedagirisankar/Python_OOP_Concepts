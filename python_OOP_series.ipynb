{
 "cells": [
  {
   "cell_type": "code",
   "execution_count": null,
   "metadata": {},
   "outputs": [],
   "source": [
    "class person():\n",
    "    print(\"hai\")"
   ]
  },
  {
   "cell_type": "code",
   "execution_count": null,
   "metadata": {},
   "outputs": [],
   "source": [
    "#Declare the two variables num1 and num2\n",
    "num1 = int(input(\"Enter 1st number: \"))\n",
    "num2 = int(input(\"Enter 2nd number: \"))\n",
    "\n",
    "#declare the variable sum\n",
    "sum = num1 + num2\n",
    "\n",
    "#print the variables\n",
    "print(f\"sum of {num1} + {num2} is {sum}\")"
   ]
  },
  {
   "cell_type": "code",
   "execution_count": null,
   "metadata": {},
   "outputs": [],
   "source": [
    "class person():\n",
    "    pass\n",
    "\n",
    "print(person)\n",
    "print(id(person))\n",
    "print(hex(id(person)))\n",
    "print(isinstance(person, person))"
   ]
  },
  {
   "cell_type": "code",
   "execution_count": null,
   "metadata": {},
   "outputs": [],
   "source": [
    "print(person.__name__)\n",
    "print(type(person))"
   ]
  },
  {
   "cell_type": "code",
   "execution_count": null,
   "metadata": {},
   "outputs": [],
   "source": [
    "class HtmlDocument:\n",
    "    extension = 'Html'\n",
    "    version = '5'\n",
    "print(HtmlDocument.extension)#html\n",
    "print(HtmlDocument.version)#5\n",
    "HtmlDocument.media_type"
   ]
  },
  {
   "cell_type": "code",
   "execution_count": null,
   "metadata": {},
   "outputs": [],
   "source": [
    "class HtmlDocument:\n",
    "    extension = 'Html'\n",
    "    version = '5'\n",
    "print(HtmlDocument.extension)#html\n",
    "print(HtmlDocument.version)#5\n",
    "setattr(HtmlDocument,'version',10)\n",
    "HtmlDocument.media_type = \"text/html\"\n",
    "print(HtmlDocument.media_type)"
   ]
  },
  {
   "cell_type": "code",
   "execution_count": null,
   "metadata": {},
   "outputs": [],
   "source": [
    "from pprint import pprint\n",
    "\n",
    "class HtmlDocument:\n",
    "    extension = 'Html'\n",
    "    version = '5'\n",
    "    \n",
    "HtmlDocument.media_type = 'text\\html'\n",
    "\n",
    "pprint(HtmlDocument.__dict__)"
   ]
  },
  {
   "cell_type": "code",
   "execution_count": null,
   "metadata": {},
   "outputs": [],
   "source": [
    "def greeting(name):\n",
    "    print(\"Hi\", name, \"good morning\")\n",
    "greeting(\"vedagiri\")"
   ]
  },
  {
   "cell_type": "code",
   "execution_count": null,
   "metadata": {},
   "outputs": [],
   "source": [
    "def greeting(name = \"vedha\"):\n",
    "    print(\"Hi\", name, \"good morning\")\n",
    "greeting()"
   ]
  },
  {
   "cell_type": "code",
   "execution_count": null,
   "metadata": {},
   "outputs": [],
   "source": [
    "def greeting(name = \"vedha\"):\n",
    "    print(\"Hi\", name, \"good morning\")\n",
    "greeting('Banu')"
   ]
  },
  {
   "cell_type": "code",
   "execution_count": null,
   "metadata": {},
   "outputs": [],
   "source": [
    "def greeting(name = \"vedha\"):\n",
    "    print(\"Hi\", name, \"good morning\")\n",
    "greeting('Banu')\n",
    "greeting()"
   ]
  },
  {
   "cell_type": "code",
   "execution_count": null,
   "metadata": {},
   "outputs": [],
   "source": [
    "#add with 2 values\n",
    "def add(x,y):\n",
    "    z = x + y\n",
    "    print(\"sum is: \",z)\n",
    "add(10,20)"
   ]
  },
  {
   "cell_type": "code",
   "execution_count": null,
   "metadata": {},
   "outputs": [],
   "source": [
    "def add(x,y):\n",
    "    z = x + y\n",
    "    print(\"sum is: \",z)\n",
    "def sub(x,y):\n",
    "    z = x-y\n",
    "    print(\"sub is: \",z)\n",
    "add(10,20)\n",
    "sub(20,30)"
   ]
  },
  {
   "cell_type": "code",
   "execution_count": null,
   "metadata": {},
   "outputs": [],
   "source": [
    "def add(x,y):\n",
    "    z = x + y\n",
    "    print(\"sum is: \",z)\n",
    "add(10,20)\n",
    "\n",
    "def sub(x,y):\n",
    "    z = x-y\n",
    "    print(\"sub is: \",z)\n",
    "sub(20,30)"
   ]
  },
  {
   "cell_type": "code",
   "execution_count": null,
   "metadata": {},
   "outputs": [],
   "source": [
    "#direct assignment\n",
    "def add(x,y=20):\n",
    "    z = x + y\n",
    "    print(\"sum is: \",z)\n",
    "add(10)"
   ]
  },
  {
   "cell_type": "code",
   "execution_count": null,
   "metadata": {},
   "outputs": [],
   "source": [
    "def add(x,y):\n",
    "    z = x + y\n",
    "    print(\"sum is: \",z)\n",
    "add(10,20)\n",
    "print(\"the added value is:\",z)"
   ]
  },
  {
   "cell_type": "code",
   "execution_count": null,
   "metadata": {},
   "outputs": [],
   "source": [
    "def fun(x):\n",
    "    return x+5\n",
    "fun(10)"
   ]
  },
  {
   "cell_type": "code",
   "execution_count": null,
   "metadata": {},
   "outputs": [],
   "source": [
    "def greet(a,b):\n",
    "    print(a+b)\n",
    "print(greet(10,20))"
   ]
  },
  {
   "cell_type": "code",
   "execution_count": null,
   "metadata": {},
   "outputs": [],
   "source": [
    "def add_sub(x,y):\n",
    "    z= x+y\n",
    "    z1 =x-y\n",
    "    return z,z1\n",
    "addval,subval=add_sub(10,20)\n",
    "print(\"the sum is:\",addval)\n",
    "print(\"the sub is:\",subval)"
   ]
  },
  {
   "cell_type": "code",
   "execution_count": null,
   "metadata": {},
   "outputs": [],
   "source": [
    "#global variables\n",
    "\n",
    "glo_variable = \"I am global variable\"\n",
    "def glo():\n",
    "    print(\"inside function: \",glo_variable)\n",
    "glo()"
   ]
  },
  {
   "cell_type": "code",
   "execution_count": null,
   "metadata": {},
   "outputs": [],
   "source": [
    "#local variable\n",
    "def local():\n",
    "    loc_variable = \"I am a local variable\"\n",
    "    print(loc_variable)\n",
    "local()"
   ]
  },
  {
   "cell_type": "code",
   "execution_count": null,
   "metadata": {},
   "outputs": [],
   "source": [
    "#local variable\n",
    "def local():\n",
    "    loc_variable = \"I am a local variable\"\n",
    "    print(loc_variable)\n",
    "local()\n",
    "print(loc_variable)"
   ]
  },
  {
   "cell_type": "code",
   "execution_count": null,
   "metadata": {},
   "outputs": [],
   "source": [
    "glo_variable = \"hai\"\n",
    "def local():\n",
    "    loc_variable = \"I am a local variable\"\n",
    "    print(loc_variable)\n",
    "local()\n",
    "print(glo_variable)\n",
    "print(loc_variable)"
   ]
  },
  {
   "cell_type": "code",
   "execution_count": null,
   "metadata": {},
   "outputs": [],
   "source": [
    "#accessing within function\n",
    "var = \"happy learning\"\n",
    "def greet():\n",
    "    var = \"python series\"\n",
    "    print(\"inside function: \",var)\n",
    "greet()\n",
    "print(\"outside the function: \",var)"
   ]
  },
  {
   "cell_type": "code",
   "execution_count": null,
   "metadata": {},
   "outputs": [],
   "source": [
    "#if needp to chanfe global variable value in function\n",
    "var = \"happylearning\"\n",
    "def greet():\n",
    "    global var\n",
    "    var = \"bye bye\"\n",
    "    print(\"inside function: \",var)\n",
    "greet()\n",
    "print(\"outside function:\",var)"
   ]
  },
  {
   "cell_type": "code",
   "execution_count": null,
   "metadata": {},
   "outputs": [],
   "source": [
    "#global and local variable having same name\n",
    "var = \"Hi soldiers!\"\n",
    "def greet():\n",
    "    var = \"vaddaku nanbargal\"\n",
    "    print(\"inside function:\",var)\n",
    "    print(globals()['var'])\n",
    "greet()\n",
    "print(\"outside function:\",var)"
   ]
  },
  {
   "cell_type": "code",
   "execution_count": null,
   "metadata": {},
   "outputs": [],
   "source": [
    "#keyword argument\n",
    "def person(name,age):\n",
    "    print(\"Name is:\",name)\n",
    "    print(\"age is:\",age)\n",
    "person(age=20,name=\"vedha\")"
   ]
  },
  {
   "cell_type": "code",
   "execution_count": null,
   "metadata": {},
   "outputs": [],
   "source": [
    "#default\n",
    "def person(name,age=20):\n",
    "    print(\"Name is:\",name)\n",
    "    print(\"age is:\",age)\n",
    "person(\"jhon\")"
   ]
  },
  {
   "cell_type": "code",
   "execution_count": null,
   "metadata": {},
   "outputs": [],
   "source": [
    "#*args\n",
    "def add(x,*y):\n",
    "    z=x+y\n",
    "    print(\"sum is:\",z)\n",
    "add(10,20,30,40)"
   ]
  },
  {
   "cell_type": "code",
   "execution_count": null,
   "metadata": {},
   "outputs": [],
   "source": [
    "def add(x,*y):\n",
    "    z=0\n",
    "    for i in y:\n",
    "        z=z+i\n",
    "    print(\"sum is:\",z)\n",
    "add(10,20,30,40)"
   ]
  },
  {
   "cell_type": "code",
   "execution_count": null,
   "metadata": {},
   "outputs": [],
   "source": [
    "def add(x,*y):\n",
    "    print(x)\n",
    "    print(y)\n",
    "    z=x+y\n",
    "    print(\"sum is:\",z)\n",
    "add(10,20,30,40,50)"
   ]
  },
  {
   "cell_type": "code",
   "execution_count": null,
   "metadata": {},
   "outputs": [],
   "source": [
    "def add(x,*y):\n",
    "    z=x\n",
    "    for i in y:\n",
    "        z=z+i\n",
    "    print(\"sum:\",z)\n",
    "\n",
    "add(10,20,30,40)"
   ]
  },
  {
   "cell_type": "code",
   "execution_count": null,
   "metadata": {},
   "outputs": [],
   "source": [
    "def lst_to_fun(lst):\n",
    "    even = 0\n",
    "    odd = 0\n",
    "    for i in lst:\n",
    "        if i%2 == 0:\n",
    "            even = even+1\n",
    "        else:\n",
    "            odd = odd+1\n",
    "    return even,odd\n",
    "lst = [10,21,30,56,78,89,12,34,54,32,31,20]\n",
    "even,odd = lst_to_fun(lst)\n",
    "print(even)\n",
    "print(odd)\n",
    "print(f\"even number:{even} odd number: {odd}\")"
   ]
  },
  {
   "cell_type": "code",
   "execution_count": null,
   "metadata": {},
   "outputs": [],
   "source": [
    "def person(name, **values):\n",
    "    print(\"name:\",name)\n",
    "    for i, j in values.items():\n",
    "        print(i,j)\n",
    "person(\"jhon\", age=32, city=\"chennai\",ph=1234567890)\n"
   ]
  },
  {
   "cell_type": "code",
   "execution_count": null,
   "metadata": {},
   "outputs": [],
   "source": [
    "def greet():\n",
    "    print(\"HI!!!\")\n",
    "    greet()\n",
    "greet()"
   ]
  },
  {
   "cell_type": "code",
   "execution_count": null,
   "metadata": {},
   "outputs": [],
   "source": [
    "import sys\n",
    "print(sys.getrecursionlimit())"
   ]
  },
  {
   "cell_type": "code",
   "execution_count": null,
   "metadata": {},
   "outputs": [],
   "source": [
    "import sys\n",
    "sys.setrecursionlimit(1500)\n",
    "print(sys.getrecursionlimit())"
   ]
  },
  {
   "cell_type": "code",
   "execution_count": null,
   "metadata": {},
   "outputs": [],
   "source": [
    "def greeting():\n",
    "    global i\n",
    "    i = i+1\n",
    "    print(\"good evening!\",i)\n",
    "    greeting()\n",
    "greeting()"
   ]
  },
  {
   "cell_type": "code",
   "execution_count": null,
   "metadata": {},
   "outputs": [],
   "source": [
    "#function with recursion\n",
    "#Example factorial program\n",
    "def fact(n):\n",
    "    if(n == 0):\n",
    "        return 1\n",
    "    return n*fact(n-1)\n",
    "factorial = fact(5)\n",
    "print(\"the facorial of 5 is:\",factorial)\n"
   ]
  },
  {
   "cell_type": "code",
   "execution_count": null,
   "metadata": {},
   "outputs": [],
   "source": [
    "#factorial program with user inputs\n",
    "def fact(n):\n",
    "    if n == 0:\n",
    "        return 1\n",
    "    return n*fact(n-1)\n",
    "factorial = fact(int(input(\"Enter a number:\")))\n",
    "print(f\"Factorial of is: \",factorial)"
   ]
  },
  {
   "cell_type": "code",
   "execution_count": null,
   "metadata": {},
   "outputs": [],
   "source": [
    "#methods\n",
    "#classes and objects\n",
    "class person():\n",
    "    print(\"hai\")\n",
    "    a = 10\n",
    "obj = person()\n",
    "print(obj.a)"
   ]
  },
  {
   "cell_type": "code",
   "execution_count": null,
   "metadata": {},
   "outputs": [],
   "source": [
    "def msg():\n",
    "    print(\"hello\")\n",
    "msg()"
   ]
  },
  {
   "cell_type": "code",
   "execution_count": 90,
   "metadata": {},
   "outputs": [
    {
     "name": "stdout",
     "output_type": "stream",
     "text": [
      "hello\n"
     ]
    }
   ],
   "source": [
    "class text():\n",
    "    def msg():\n",
    "        print(\"hello\")\n",
    "a = text\n",
    "a.msg()"
   ]
  },
  {
   "cell_type": "code",
   "execution_count": 91,
   "metadata": {},
   "outputs": [
    {
     "ename": "TypeError",
     "evalue": "text.msg() missing 1 required positional argument: 'self'",
     "output_type": "error",
     "traceback": [
      "\u001b[1;31m---------------------------------------------------------------------------\u001b[0m",
      "\u001b[1;31mTypeError\u001b[0m                                 Traceback (most recent call last)",
      "Cell \u001b[1;32mIn[91], line 5\u001b[0m\n\u001b[0;32m      3\u001b[0m         \u001b[38;5;28mprint\u001b[39m(\u001b[38;5;124m\"\u001b[39m\u001b[38;5;124mhello\u001b[39m\u001b[38;5;124m\"\u001b[39m)\n\u001b[0;32m      4\u001b[0m a \u001b[38;5;241m=\u001b[39m text\n\u001b[1;32m----> 5\u001b[0m \u001b[43ma\u001b[49m\u001b[38;5;241;43m.\u001b[39;49m\u001b[43mmsg\u001b[49m\u001b[43m(\u001b[49m\u001b[43m)\u001b[49m\n",
      "\u001b[1;31mTypeError\u001b[0m: text.msg() missing 1 required positional argument: 'self'"
     ]
    }
   ],
   "source": [
    "class text():\n",
    "    def msg(self):\n",
    "        print(\"hello\")\n",
    "a = text\n",
    "a.msg()"
   ]
  },
  {
   "cell_type": "code",
   "execution_count": 4,
   "metadata": {},
   "outputs": [
    {
     "name": "stdout",
     "output_type": "stream",
     "text": [
      "My name is: sakthi\n",
      "My age is: 23\n",
      "My gneder is: Female\n",
      "My name is: shiva\n",
      "My age is: 25\n",
      "My gender is: Male\n"
     ]
    }
   ],
   "source": [
    "class person():\n",
    "    name = \"\"\n",
    "    age = 0\n",
    "    gender = \"\"\n",
    "\n",
    "person1 = person()\n",
    "person1.name = \"sakthi\"\n",
    "person1.age = 23\n",
    "person1.gender = \"Female\"\n",
    "\n",
    "person2 = person()\n",
    "person2.name = \"shiva\"\n",
    "person2.age = 25\n",
    "person2.gender = \"Male\"\n",
    "    \n",
    "print(\"My name is:\",person1.name)\n",
    "print(\"My age is:\",person1.age)\n",
    "print(\"My gneder is:\",person1.gender)\n",
    "print(\"My name is:\",person2.name)\n",
    "print(\"My age is:\",person2.age)\n",
    "print(\"My gender is:\",person2.gender)\n",
    "\n",
    "\n"
   ]
  },
  {
   "cell_type": "code",
   "execution_count": 1,
   "metadata": {},
   "outputs": [
    {
     "name": "stdout",
     "output_type": "stream",
     "text": [
      "my name is: sakthi\n",
      "age is: 23\n",
      "gender is: Female\n"
     ]
    }
   ],
   "source": [
    "class person:\n",
    "    name = \"\"\n",
    "    age = 0\n",
    "    gender = \"\"\n",
    "\n",
    "    def print_detail(self):\n",
    "        print(\"my name is:\",c.name)\n",
    "        print(\"age is:\",c.age)\n",
    "        print(\"gender is:\",c.gender)\n",
    "\n",
    "c=person()\n",
    "c.name = \"sakthi\"\n",
    "c.age = 23\n",
    "c.gender = \"Female\"\n",
    "c.print_detail()\n"
   ]
  },
  {
   "cell_type": "code",
   "execution_count": 13,
   "metadata": {},
   "outputs": [
    {
     "name": "stdout",
     "output_type": "stream",
     "text": [
      "Area of the Room: 100\n"
     ]
    }
   ],
   "source": [
    "class Room:\n",
    "    length = 0.0\n",
    "    breath = 0.0\n",
    "\n",
    "    def calculate_area(self):\n",
    "        print(\"Area of the Room:\",Room1.length * Room1.breath)\n",
    "    \n",
    "Room1 = Room()\n",
    "Room1.length = 20\n",
    "Room1.breath = 5\n",
    "Room1.calculate_area()"
   ]
  },
  {
   "cell_type": "code",
   "execution_count": 14,
   "metadata": {},
   "outputs": [
    {
     "name": "stdout",
     "output_type": "stream",
     "text": [
      "hai\n"
     ]
    }
   ],
   "source": [
    "class test:\n",
    "    def __init__(self):\n",
    "        print(\"hai\")\n",
    "obj1 = test()\n"
   ]
  },
  {
   "cell_type": "code",
   "execution_count": 16,
   "metadata": {},
   "outputs": [
    {
     "name": "stdout",
     "output_type": "stream",
     "text": [
      "Name is: sakthi\n",
      "Age is: 23\n"
     ]
    }
   ],
   "source": [
    "class student:\n",
    "    def __init__(self):\n",
    "        name = \"sakthi\"\n",
    "        age = 23\n",
    "        print(\"Name is:\",name)\n",
    "        print(\"Age is:\",age)\n",
    "stu1 = student()"
   ]
  },
  {
   "cell_type": "code",
   "execution_count": 2,
   "metadata": {},
   "outputs": [
    {
     "name": "stdout",
     "output_type": "stream",
     "text": [
      "name is: jhon\n",
      "age is: 23\n"
     ]
    }
   ],
   "source": [
    "#parameterized constructor\n",
    "class student:\n",
    "    def __init__(self,name, age):\n",
    "        print(\"name is:\",name)\n",
    "        print(\"age is:\",age)\n",
    "stu=student(\"jhon\",23)"
   ]
  },
  {
   "cell_type": "code",
   "execution_count": 4,
   "metadata": {},
   "outputs": [
    {
     "name": "stdout",
     "output_type": "stream",
     "text": [
      "My name is: jhon\n",
      "age is: 23\n"
     ]
    }
   ],
   "source": [
    "class student:\n",
    "    def __init__(self, name, age):\n",
    "        self.name = name\n",
    "        self.age = age\n",
    "    def print_1(self):\n",
    "        print(\"My name is:\",self.name)\n",
    "        print(\"age is:\",self.age)\n",
    "stu = student(\"jhon\", 23)\n",
    "stu.print_1()\n"
   ]
  },
  {
   "cell_type": "markdown",
   "metadata": {},
   "source": [
    "constructor is used in this session"
   ]
  },
  {
   "cell_type": "code",
   "execution_count": 12,
   "metadata": {},
   "outputs": [
    {
     "name": "stdout",
     "output_type": "stream",
     "text": [
      "This is a constructor\n",
      "4 5 19.7\n",
      "This is a constructor\n",
      "5 10 25.0\n"
     ]
    }
   ],
   "source": [
    "#constructor\n",
    "class car:\n",
    "    def __init__(self,no_of_wheels, no_of_airabags,mileage):\n",
    "        print(\"This is a constructor\")\n",
    "        self.no_of_wheels = no_of_wheels\n",
    "        self.no_of_airabags = no_of_airabags\n",
    "        self.mileage = mileage\n",
    "\n",
    "car1 = car(4,5,19.7)\n",
    "print(car1.no_of_wheels,car1.no_of_airabags,car1.mileage)\n",
    "car2 = car(5,10,25.0)\n",
    "print(car2.no_of_wheels,car2.no_of_airabags,car2.mileage)\n"
   ]
  },
  {
   "cell_type": "code",
   "execution_count": null,
   "metadata": {},
   "outputs": [],
   "source": [
    "#constructor\n",
    "class car:\n",
    "    def __init__(self,no_of_wheels, no_of_airabags,mileage):\n",
    "        print(\"This is a constructor\")\n",
    "        self.no_of_wheels = no_of_wheels\n",
    "        self.no_of_airabags = no_of_airabags\n",
    "        self.mileage = mileage\n",
    "\n",
    "    def __del__(self):\n",
    "        print(\"This is a destructor\")\n",
    "        \n",
    "car1 = car(4,5,19.7)\n",
    "print(car1.no_of_wheels,car1.no_of_airabags,car1.mileage)                   \n",
    "\n",
    "car2 = car(5,10,25.0)\n",
    "print(car2.no_of_wheels,car2.no_of_airabags,car2.mileage)\n"
   ]
  },
  {
   "cell_type": "code",
   "execution_count": 4,
   "metadata": {},
   "outputs": [
    {
     "name": "stdout",
     "output_type": "stream",
     "text": [
      "3\n",
      "4\n",
      "vehicle is moving forward\n"
     ]
    }
   ],
   "source": [
    "#inheritance\n",
    "\n",
    "class vehicle:#parent class\n",
    "    no_of_wheels = 4\n",
    "    \n",
    "    #def moveforward(self):\n",
    "        #print(\"vehicle is moving forward\")\n",
    "    \n",
    "class car(vehicle):#child class\n",
    "    #no_of_wheels = 5b \n",
    "    no_of_airbags = 3\n",
    "\n",
    "    def moveforward(self):\n",
    "        print(\"vehicle is moving forward\")\n",
    "car1 = car()\n",
    "print(car1.no_of_airbags)\n",
    "print(car1.no_of_wheels)\n",
    "car1.moveforward()"
   ]
  },
  {
   "cell_type": "code",
   "execution_count": 26,
   "metadata": {},
   "outputs": [
    {
     "data": {
      "text/plain": [
       "13"
      ]
     },
     "execution_count": 26,
     "metadata": {},
     "output_type": "execute_result"
    }
   ],
   "source": [
    "#polymorphism\n",
    "class summation:\n",
    "    def sum(self, a=0, b=0, c=0):\n",
    "        return a+b+c\n",
    "summ= summation()\n",
    "summ.sum(2,5,6)"
   ]
  },
  {
   "cell_type": "code",
   "execution_count": 2,
   "metadata": {},
   "outputs": [
    {
     "name": "stdout",
     "output_type": "stream",
     "text": [
      "Child constructor\n",
      "hello from child\n",
      "father constructor\n",
      "hello from father\n"
     ]
    }
   ],
   "source": [
    "#method overridding\n",
    "class father:\n",
    "    def __init__(self):\n",
    "        print(\"father constructor\")\n",
    "    def say_hello(self):\n",
    "        print(\"hello from father\")\n",
    "class child(father):\n",
    "    def __init__(self):\n",
    "        print(\"Child constructor\")\n",
    "    def say_hello(self):\n",
    "        print(\"hello from child\")\n",
    "\n",
    "Child = child()\n",
    "Child.say_hello()\n",
    "Father = father()\n",
    "Father.say_hello()"
   ]
  },
  {
   "cell_type": "code",
   "execution_count": 7,
   "metadata": {},
   "outputs": [
    {
     "name": "stdout",
     "output_type": "stream",
     "text": [
      "swift is moving forward\n"
     ]
    }
   ],
   "source": [
    "#Abstraction\n",
    "from abc import ABC, abstractmethod\n",
    "\n",
    "class Car(ABC):\n",
    "    @abstractmethod  #Decoraror\n",
    "    def moveforward(self):\n",
    "        pass\n",
    "    def movebackward(self):\n",
    "        pass\n",
    "\n",
    "class swift(Car):\n",
    "    @abstractmethod #Decarator\n",
    "    def moveforward(self):\n",
    "        print(\"swift is moving forward\")\n",
    "        \n",
    "    def movebackward(self):\n",
    "        print(\"swift is moving backward\")\n",
    "\n",
    "class BMW(Car):\n",
    "    @abstractmethod #Decarator\n",
    "    def moveforward(self):\n",
    "        print(\"BMW is moving forward\")\n",
    "        \n",
    "    def movebackward(self):\n",
    "        print(\"BMW is moving backward\")\n",
    "\n",
    "swift1 = swift()\n",
    "swift1.moveforward()"
   ]
  },
  {
   "cell_type": "code",
   "execution_count": 15,
   "metadata": {},
   "outputs": [
    {
     "ename": "TypeError",
     "evalue": "swift.moveforward() missing 1 required positional argument: 'self'",
     "output_type": "error",
     "traceback": [
      "\u001b[1;31m---------------------------------------------------------------------------\u001b[0m",
      "\u001b[1;31mTypeError\u001b[0m                                 Traceback (most recent call last)",
      "Cell \u001b[1;32mIn[15], line 31\u001b[0m\n\u001b[0;32m     26\u001b[0m         \u001b[38;5;28mprint\u001b[39m(\u001b[38;5;124m\"\u001b[39m\u001b[38;5;124mBMW is moving backward\u001b[39m\u001b[38;5;124m\"\u001b[39m)\n\u001b[0;32m     28\u001b[0m \u001b[38;5;66;03m#swift1 = swift()\u001b[39;00m\n\u001b[0;32m     29\u001b[0m \u001b[38;5;66;03m#swift1.moveforward()\u001b[39;00m\n\u001b[1;32m---> 31\u001b[0m \u001b[43mswift\u001b[49m\u001b[38;5;241;43m.\u001b[39;49m\u001b[43mmoveforward\u001b[49m\u001b[43m(\u001b[49m\u001b[43m)\u001b[49m\n",
      "\u001b[1;31mTypeError\u001b[0m: swift.moveforward() missing 1 required positional argument: 'self'"
     ]
    }
   ],
   "source": [
    "#static method\n",
    "#Abstraction\n",
    "from abc import ABC\n",
    "\n",
    "class Car(ABC):\n",
    " \n",
    "    def moveforward(self):\n",
    "        pass\n",
    "    def movebackward(self):\n",
    "        pass\n",
    "\n",
    "class swift(Car):\n",
    "    @staticmethod #Decarator\n",
    "    def moveforward(self):\n",
    "        print(\"swift is moving forward\")\n",
    "        \n",
    "    def movebackward(self):\n",
    "        print(\"swift is moving backward\")\n",
    "\n",
    "class BMW(Car):\n",
    "    \n",
    "    def moveforward(self):\n",
    "        print(\"BMW is moving forward\")\n",
    "        \n",
    "    def movebackward(self):\n",
    "        print(\"BMW is moving backward\")\n",
    "\n",
    "#swift1 = swift()\n",
    "#swift1.moveforward()\n",
    "\n",
    "swift.moveforward()"
   ]
  }
 ],
 "metadata": {
  "kernelspec": {
   "display_name": "Python 3",
   "language": "python",
   "name": "python3"
  },
  "language_info": {
   "codemirror_mode": {
    "name": "ipython",
    "version": 3
   },
   "file_extension": ".py",
   "mimetype": "text/x-python",
   "name": "python",
   "nbconvert_exporter": "python",
   "pygments_lexer": "ipython3",
   "version": "3.12.1"
  }
 },
 "nbformat": 4,
 "nbformat_minor": 2
}
